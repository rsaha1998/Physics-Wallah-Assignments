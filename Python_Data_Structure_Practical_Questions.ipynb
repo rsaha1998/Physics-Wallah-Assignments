{
  "nbformat": 4,
  "nbformat_minor": 0,
  "metadata": {
    "colab": {
      "provenance": []
    },
    "kernelspec": {
      "name": "python3",
      "display_name": "Python 3"
    },
    "language_info": {
      "name": "python"
    }
  },
  "cells": [
    {
      "cell_type": "code",
      "execution_count": 44,
      "metadata": {
        "colab": {
          "base_uri": "https://localhost:8080/"
        },
        "id": "uT9qeL4Asl-c",
        "outputId": "9e169799-21da-481b-c069-543cbee79e1c"
      },
      "outputs": [
        {
          "output_type": "stream",
          "name": "stdout",
          "text": [
            "Please Enter Your Name: Rajdeep Saha\n",
            "Rajdeep Saha\n"
          ]
        }
      ],
      "source": [
        "# 1. Create a string with your name and print it.\n",
        "x=input(\"Please Enter Your Name: \")\n",
        "print(x)"
      ]
    },
    {
      "cell_type": "code",
      "source": [
        "# 2. Find the length of the string \"Hello World\"\n",
        "len(\"Hello World\")"
      ],
      "metadata": {
        "colab": {
          "base_uri": "https://localhost:8080/"
        },
        "id": "HZZPEwO1vYSO",
        "outputId": "d987cbd9-9633-4ee0-aacc-11935ba1cb93"
      },
      "execution_count": 45,
      "outputs": [
        {
          "output_type": "execute_result",
          "data": {
            "text/plain": [
              "11"
            ]
          },
          "metadata": {},
          "execution_count": 45
        }
      ]
    },
    {
      "cell_type": "code",
      "source": [
        "# 3. Slice the first 3 characters from \"Python Programming\"\n",
        "\"Python Programming\"[0:3]"
      ],
      "metadata": {
        "colab": {
          "base_uri": "https://localhost:8080/",
          "height": 36
        },
        "id": "mRpp3C63vt0s",
        "outputId": "a33c5563-04bb-4768-e360-a6b82703d782"
      },
      "execution_count": 46,
      "outputs": [
        {
          "output_type": "execute_result",
          "data": {
            "text/plain": [
              "'Pyt'"
            ],
            "application/vnd.google.colaboratory.intrinsic+json": {
              "type": "string"
            }
          },
          "metadata": {},
          "execution_count": 46
        }
      ]
    },
    {
      "cell_type": "code",
      "source": [
        "# 4. Convert \"hello\" to uppercase.\n",
        "print(\"hello\".upper())"
      ],
      "metadata": {
        "colab": {
          "base_uri": "https://localhost:8080/"
        },
        "id": "jvi5g9ryv8C4",
        "outputId": "066ed785-3240-467a-8828-86aae3f4ce4b"
      },
      "execution_count": 47,
      "outputs": [
        {
          "output_type": "stream",
          "name": "stdout",
          "text": [
            "HELLO\n"
          ]
        }
      ]
    },
    {
      "cell_type": "code",
      "source": [
        "# 5. Replace \"apple\" with \"orange\" in \"I like apple\".\n",
        "y= \"I like Apple\"\n",
        "print(y.replace(\"Apple\",\"Orange\"))"
      ],
      "metadata": {
        "colab": {
          "base_uri": "https://localhost:8080/"
        },
        "id": "7tQBEwhTxHa9",
        "outputId": "01484d83-c609-4232-a44b-259b0f6a8f4f"
      },
      "execution_count": 48,
      "outputs": [
        {
          "output_type": "stream",
          "name": "stdout",
          "text": [
            "I like Orange\n"
          ]
        }
      ]
    },
    {
      "cell_type": "code",
      "source": [
        "# 6. Create a list with numbers 1 to 5 and print it.\n",
        "z=[1,2,3,4,5]\n",
        "print(z)"
      ],
      "metadata": {
        "colab": {
          "base_uri": "https://localhost:8080/"
        },
        "id": "twA67TcmxOlI",
        "outputId": "f120d57d-0826-483f-8604-0b9e6833f2ba"
      },
      "execution_count": 49,
      "outputs": [
        {
          "output_type": "stream",
          "name": "stdout",
          "text": [
            "[1, 2, 3, 4, 5]\n"
          ]
        }
      ]
    },
    {
      "cell_type": "code",
      "source": [
        "# 7. Append the number 10 to the list [1, 2, 3, 4].\n",
        "z1=[1,2,3,4]\n",
        "z1.append(10)\n",
        "print(z1)"
      ],
      "metadata": {
        "colab": {
          "base_uri": "https://localhost:8080/"
        },
        "id": "Rl3RObp0xTu2",
        "outputId": "fbf90758-7a49-4bf2-cb91-8ef9877a6306"
      },
      "execution_count": 50,
      "outputs": [
        {
          "output_type": "stream",
          "name": "stdout",
          "text": [
            "[1, 2, 3, 4, 10]\n"
          ]
        }
      ]
    },
    {
      "cell_type": "code",
      "source": [
        "# 8. Remove the number 3 from [1, 2, 3, 4, 5].\n",
        "z2=[1,2,3,4,5]\n",
        "z2.remove(3)\n",
        "print(z2)"
      ],
      "metadata": {
        "colab": {
          "base_uri": "https://localhost:8080/"
        },
        "id": "vRIFcfDNxjhd",
        "outputId": "66fc0a8f-6fa2-48f3-9ecf-2d29708d0696"
      },
      "execution_count": 51,
      "outputs": [
        {
          "output_type": "stream",
          "name": "stdout",
          "text": [
            "[1, 2, 4, 5]\n"
          ]
        }
      ]
    },
    {
      "cell_type": "code",
      "source": [
        "# 9. Access the second element in ['a', 'b', 'c', 'd'].\n",
        "z3=['a','b','c','d']\n",
        "print(z3[1])"
      ],
      "metadata": {
        "colab": {
          "base_uri": "https://localhost:8080/"
        },
        "id": "20ydcyhJxqNt",
        "outputId": "4c62cde8-b334-43dc-8df5-5a52add19aab"
      },
      "execution_count": 52,
      "outputs": [
        {
          "output_type": "stream",
          "name": "stdout",
          "text": [
            "b\n"
          ]
        }
      ]
    },
    {
      "cell_type": "code",
      "source": [
        "# 10. Reverse the list [10, 20, 30, 40, 50].\n",
        "z4=[10,20,30,40,50]\n",
        "z4.reverse()\n",
        "print(z4)"
      ],
      "metadata": {
        "colab": {
          "base_uri": "https://localhost:8080/"
        },
        "id": "xiSnyBAqxxQz",
        "outputId": "32b9aac0-b5ff-4c0d-b3d0-882949370fe9"
      },
      "execution_count": 53,
      "outputs": [
        {
          "output_type": "stream",
          "name": "stdout",
          "text": [
            "[50, 40, 30, 20, 10]\n"
          ]
        }
      ]
    },
    {
      "cell_type": "code",
      "source": [
        "# 11. Create a tuple with elements 100, 200, 300 and print it.\n",
        "z5=(100,200,300)\n",
        "print(z5)"
      ],
      "metadata": {
        "colab": {
          "base_uri": "https://localhost:8080/"
        },
        "id": "rt_9KwkWxzPi",
        "outputId": "292af0b3-0556-45eb-bb37-b62fe666be12"
      },
      "execution_count": 54,
      "outputs": [
        {
          "output_type": "stream",
          "name": "stdout",
          "text": [
            "(100, 200, 300)\n"
          ]
        }
      ]
    },
    {
      "cell_type": "code",
      "source": [
        "# 12. Access the second-to-last element of ('red', 'green', 'blue', 'yellow').\n",
        "z6=('red','green','blue','yellow')\n",
        "print(z6[-2])"
      ],
      "metadata": {
        "colab": {
          "base_uri": "https://localhost:8080/"
        },
        "id": "0Dnci1rcxzZi",
        "outputId": "11be758b-6fbd-419b-ae2d-06c68980d27d"
      },
      "execution_count": 55,
      "outputs": [
        {
          "output_type": "stream",
          "name": "stdout",
          "text": [
            "blue\n"
          ]
        }
      ]
    },
    {
      "cell_type": "code",
      "source": [
        "# 13. Find the minimum number in (10, 20, 5, 15).\n",
        "z7=(10,20,5,15)\n",
        "print(min(z7))"
      ],
      "metadata": {
        "colab": {
          "base_uri": "https://localhost:8080/"
        },
        "id": "O8sBB1zDxzc6",
        "outputId": "2f82512c-92e9-44d9-c71f-d81432865373"
      },
      "execution_count": 56,
      "outputs": [
        {
          "output_type": "stream",
          "name": "stdout",
          "text": [
            "5\n"
          ]
        }
      ]
    },
    {
      "cell_type": "code",
      "source": [
        "# 14. Find the index of \"cat\" in ('dog', 'cat', 'rabbit').\n",
        "z8=('dog','cat','rabbit')\n",
        "print(z8.index('cat'))"
      ],
      "metadata": {
        "colab": {
          "base_uri": "https://localhost:8080/"
        },
        "id": "rL0uPzkLyGKp",
        "outputId": "14f70ee7-8943-48fd-fe0a-4a2f8afd8915"
      },
      "execution_count": 57,
      "outputs": [
        {
          "output_type": "stream",
          "name": "stdout",
          "text": [
            "1\n"
          ]
        }
      ]
    },
    {
      "cell_type": "code",
      "source": [
        "# 15. Create a tuple with 3 fruits and check if \"kiwi\" is in it.\n",
        "z9=('apple','banana','cherry')\n",
        "print('kiwi' in z9)"
      ],
      "metadata": {
        "colab": {
          "base_uri": "https://localhost:8080/"
        },
        "id": "O0z-4SNvyOQx",
        "outputId": "19d2c3bc-f58b-4bbe-8f0b-dcc3703abef3"
      },
      "execution_count": 58,
      "outputs": [
        {
          "output_type": "stream",
          "name": "stdout",
          "text": [
            "False\n"
          ]
        }
      ]
    },
    {
      "cell_type": "code",
      "source": [
        "# 16. Create a set with {'a', 'b', 'c'} and print it.\n",
        "z10={'a','b','c'}\n",
        "print(z10)"
      ],
      "metadata": {
        "colab": {
          "base_uri": "https://localhost:8080/"
        },
        "id": "H1AWrjUixzfy",
        "outputId": "415453d5-e35e-4044-a01a-df8818883d59"
      },
      "execution_count": 59,
      "outputs": [
        {
          "output_type": "stream",
          "name": "stdout",
          "text": [
            "{'a', 'b', 'c'}\n"
          ]
        }
      ]
    },
    {
      "cell_type": "code",
      "source": [
        "# 17. Clear all elements from {1, 2, 3, 4, 5}.\n",
        "z11={1,2,3,4,5}\n",
        "z11.clear()\n",
        "print(z11)"
      ],
      "metadata": {
        "colab": {
          "base_uri": "https://localhost:8080/"
        },
        "id": "K7AB-lTKxziQ",
        "outputId": "dbb6f354-9bb0-4ea8-b560-31fa75e2b29b"
      },
      "execution_count": 60,
      "outputs": [
        {
          "output_type": "stream",
          "name": "stdout",
          "text": [
            "set()\n"
          ]
        }
      ]
    },
    {
      "cell_type": "code",
      "source": [
        "# 18. Remove 4 from {1, 2, 3, 4}.\n",
        "z12={1,2,3,4}\n",
        "z12.remove(4)\n",
        "print(z12)"
      ],
      "metadata": {
        "colab": {
          "base_uri": "https://localhost:8080/"
        },
        "id": "7LrKqZsVxzk4",
        "outputId": "c02e2e2c-889d-4a2c-b88e-93549e3a1b16"
      },
      "execution_count": 61,
      "outputs": [
        {
          "output_type": "stream",
          "name": "stdout",
          "text": [
            "{1, 2, 3}\n"
          ]
        }
      ]
    },
    {
      "cell_type": "code",
      "source": [
        "# 19. Find the union of {1, 2, 3} and {3, 4, 5}.\n",
        "z13={1,2,3}\n",
        "z14={3,4,5}\n",
        "print(z13.union(z14))"
      ],
      "metadata": {
        "colab": {
          "base_uri": "https://localhost:8080/"
        },
        "id": "-XXsk09-xznv",
        "outputId": "4cef37a1-3bdf-40e7-9051-78d3fdfb29d1"
      },
      "execution_count": 62,
      "outputs": [
        {
          "output_type": "stream",
          "name": "stdout",
          "text": [
            "{1, 2, 3, 4, 5}\n"
          ]
        }
      ]
    },
    {
      "cell_type": "code",
      "source": [
        "# 20. Find the intersection of {1, 2, 3} and {2, 3, 4}.\n",
        "z15={1,2,3}\n",
        "z16={2,3,4}\n",
        "print(z15.intersection(z16))"
      ],
      "metadata": {
        "colab": {
          "base_uri": "https://localhost:8080/"
        },
        "id": "8QHKIzYzxzqg",
        "outputId": "0f647f78-018a-4f52-cda5-ec8378ae2c32"
      },
      "execution_count": 63,
      "outputs": [
        {
          "output_type": "stream",
          "name": "stdout",
          "text": [
            "{2, 3}\n"
          ]
        }
      ]
    },
    {
      "cell_type": "code",
      "source": [
        "# 21. Create a dictionary with keys \"name\", \"age\", \"city\".\n",
        "z17={'name':'John','age':25,'city':'New York'}\n",
        "print(z17)"
      ],
      "metadata": {
        "colab": {
          "base_uri": "https://localhost:8080/"
        },
        "id": "bWoFYbX8xztH",
        "outputId": "a6031c28-9099-42b8-c56b-0f35a6213fed"
      },
      "execution_count": 64,
      "outputs": [
        {
          "output_type": "stream",
          "name": "stdout",
          "text": [
            "{'name': 'John', 'age': 25, 'city': 'New York'}\n"
          ]
        }
      ]
    },
    {
      "cell_type": "code",
      "source": [
        "# 22. Add \"country\": \"USA\" to {'name': 'John', 'age': 25}.\n",
        "z18={'name':'John','age':25}\n",
        "z18['country']='USA'\n",
        "print(z18)"
      ],
      "metadata": {
        "colab": {
          "base_uri": "https://localhost:8080/"
        },
        "id": "qW3r-_zPxzwA",
        "outputId": "610b378d-4bee-4739-efe7-1b9b14b7ef6f"
      },
      "execution_count": 65,
      "outputs": [
        {
          "output_type": "stream",
          "name": "stdout",
          "text": [
            "{'name': 'John', 'age': 25, 'country': 'USA'}\n"
          ]
        }
      ]
    },
    {
      "cell_type": "code",
      "source": [
        "# 23. Access \"name\" from {'name': 'Alice', 'age': 30}.\n",
        "z19={'name':'Alice','age':30}\n",
        "print(z19['name'])"
      ],
      "metadata": {
        "colab": {
          "base_uri": "https://localhost:8080/"
        },
        "id": "c07tO2bzxzy6",
        "outputId": "9cea3d53-dba3-463a-ee22-09593139e02e"
      },
      "execution_count": 66,
      "outputs": [
        {
          "output_type": "stream",
          "name": "stdout",
          "text": [
            "Alice\n"
          ]
        }
      ]
    },
    {
      "cell_type": "code",
      "source": [
        "# 24. Remove \"age\" from {'name': 'Bob', 'age': 22, 'city': 'New York'}.\n",
        "z20={'name':'Bob','age':22,'city':'New York'}\n",
        "del z20['age']\n",
        "print(z20)"
      ],
      "metadata": {
        "colab": {
          "base_uri": "https://localhost:8080/"
        },
        "id": "I7Lf-pPxxz1i",
        "outputId": "07ffbc44-f264-404b-96ed-87025a198d1d"
      },
      "execution_count": 67,
      "outputs": [
        {
          "output_type": "stream",
          "name": "stdout",
          "text": [
            "{'name': 'Bob', 'city': 'New York'}\n"
          ]
        }
      ]
    },
    {
      "cell_type": "code",
      "source": [
        "# 25. Check if \"city\" exists in {'name': 'Alice', 'city': 'Paris'}.\n",
        "z21={'name':'Alice','city':'Paris'}\n",
        "print('city' in z21)"
      ],
      "metadata": {
        "colab": {
          "base_uri": "https://localhost:8080/"
        },
        "id": "1hxOopqazf3l",
        "outputId": "42ae159e-803a-4f06-f580-4cdfb7191ae2"
      },
      "execution_count": 68,
      "outputs": [
        {
          "output_type": "stream",
          "name": "stdout",
          "text": [
            "True\n"
          ]
        }
      ]
    },
    {
      "cell_type": "code",
      "source": [
        "# 26. Create a list, tuple, and dictionary, and print them.\n",
        "z22=[1,2,3]\n",
        "z23=(4,5,6)\n",
        "z24={'name':'John','age':25}\n",
        "print(z22)\n",
        "print(z23)\n",
        "print(z24)"
      ],
      "metadata": {
        "colab": {
          "base_uri": "https://localhost:8080/"
        },
        "id": "t4jSjK8bzkbX",
        "outputId": "2a29230d-77d6-4e71-aee3-68872b7ffa96"
      },
      "execution_count": 69,
      "outputs": [
        {
          "output_type": "stream",
          "name": "stdout",
          "text": [
            "[1, 2, 3]\n",
            "(4, 5, 6)\n",
            "{'name': 'John', 'age': 25}\n"
          ]
        }
      ]
    },
    {
      "cell_type": "code",
      "source": [
        "# 27. Create a list of 5 random numbers between 1–100, sort, and print it.\n",
        "import random\n",
        "z25=random.sample(range(1,101),5)\n",
        "z25.sort()\n",
        "print(z25)"
      ],
      "metadata": {
        "colab": {
          "base_uri": "https://localhost:8080/"
        },
        "id": "rQ7TQ-r2zg_D",
        "outputId": "dd256fee-c405-44bb-ee1b-6449bc90a633"
      },
      "execution_count": 70,
      "outputs": [
        {
          "output_type": "stream",
          "name": "stdout",
          "text": [
            "[14, 19, 32, 80, 96]\n"
          ]
        }
      ]
    },
    {
      "cell_type": "code",
      "source": [
        "# 28. Create a list with strings and print the element at index 3.\n",
        "z26=['apple','banana','cherry','date']\n",
        "print(z26[3])"
      ],
      "metadata": {
        "colab": {
          "base_uri": "https://localhost:8080/"
        },
        "id": "As2fDK3bzhIj",
        "outputId": "006a7b47-4a09-4627-8bfa-f52f54fedca4"
      },
      "execution_count": 71,
      "outputs": [
        {
          "output_type": "stream",
          "name": "stdout",
          "text": [
            "date\n"
          ]
        }
      ]
    },
    {
      "cell_type": "code",
      "source": [
        "# 29. Combine two dictionaries and print the result.\n",
        "z27={'name':'John','age':25}\n",
        "z28={'city':'New York','country':'USA'}\n",
        "z27.update(z28)\n",
        "print(z27)"
      ],
      "metadata": {
        "colab": {
          "base_uri": "https://localhost:8080/"
        },
        "id": "PtW54FO0z_xd",
        "outputId": "0fceb906-26c3-4f40-850f-dea7b20f0811"
      },
      "execution_count": 72,
      "outputs": [
        {
          "output_type": "stream",
          "name": "stdout",
          "text": [
            "{'name': 'John', 'age': 25, 'city': 'New York', 'country': 'USA'}\n"
          ]
        }
      ]
    },
    {
      "cell_type": "code",
      "source": [
        "# 30. Convert a list of strings into a set.\n",
        "z29=['apple','banana','cherry']\n",
        "z30=set(z29)\n",
        "print(z30)"
      ],
      "metadata": {
        "colab": {
          "base_uri": "https://localhost:8080/"
        },
        "id": "cFiwP7MwzhN7",
        "outputId": "066d1a20-4ca1-4ede-ee1f-ad8707e39b47"
      },
      "execution_count": 73,
      "outputs": [
        {
          "output_type": "stream",
          "name": "stdout",
          "text": [
            "{'apple', 'cherry', 'banana'}\n"
          ]
        }
      ]
    }
  ]
}